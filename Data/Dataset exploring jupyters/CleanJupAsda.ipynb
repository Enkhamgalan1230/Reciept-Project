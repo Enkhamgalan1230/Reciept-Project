{
 "cells": [
  {
   "cell_type": "code",
   "execution_count": null,
   "metadata": {},
   "outputs": [],
   "source": [
    "# They write cl like 75c3 and litre like lt, 100ml, 100g, kg, each and 10g\n"
   ]
  },
  {
   "cell_type": "code",
   "execution_count": 1,
   "metadata": {},
   "outputs": [],
   "source": [
    "import pandas as pd\n",
    "import re\n",
    "import numpy as np\n",
    "from sklearn.preprocessing import OneHotEncoder"
   ]
  },
  {
   "cell_type": "code",
   "execution_count": 3,
   "metadata": {},
   "outputs": [],
   "source": [
    "df = pd.read_csv(\"Asda.csv\")"
   ]
  },
  {
   "cell_type": "code",
   "execution_count": 4,
   "metadata": {},
   "outputs": [
    {
     "data": {
      "text/html": [
       "<div>\n",
       "<style scoped>\n",
       "    .dataframe tbody tr th:only-of-type {\n",
       "        vertical-align: middle;\n",
       "    }\n",
       "\n",
       "    .dataframe tbody tr th {\n",
       "        vertical-align: top;\n",
       "    }\n",
       "\n",
       "    .dataframe thead th {\n",
       "        text-align: right;\n",
       "    }\n",
       "</style>\n",
       "<table border=\"1\" class=\"dataframe\">\n",
       "  <thead>\n",
       "    <tr style=\"text-align: right;\">\n",
       "      <th></th>\n",
       "      <th>Name</th>\n",
       "      <th>Price</th>\n",
       "      <th>Price per Unit</th>\n",
       "      <th>Category</th>\n",
       "      <th>Subcategory</th>\n",
       "      <th>Date</th>\n",
       "    </tr>\n",
       "  </thead>\n",
       "  <tbody>\n",
       "    <tr>\n",
       "      <th>0</th>\n",
       "      <td>ASDA Sweet &amp; Plump Raspberries</td>\n",
       "      <td>£2.00</td>\n",
       "      <td>(£13.33/kg)</td>\n",
       "      <td>fresh_food</td>\n",
       "      <td>fruits</td>\n",
       "      <td>2024-11-19</td>\n",
       "    </tr>\n",
       "    <tr>\n",
       "      <th>1</th>\n",
       "      <td>ASDA Sweet &amp; Juicy Rainbow Fruit Platter</td>\n",
       "      <td>£3.50</td>\n",
       "      <td>(£8.33/kg)</td>\n",
       "      <td>fresh_food</td>\n",
       "      <td>fruits</td>\n",
       "      <td>2024-11-19</td>\n",
       "    </tr>\n",
       "    <tr>\n",
       "      <th>2</th>\n",
       "      <td>ASDA 6 Sweet &amp; Creamy Bananas</td>\n",
       "      <td>£0.94</td>\n",
       "      <td>(15.7p/each)</td>\n",
       "      <td>fresh_food</td>\n",
       "      <td>fruits</td>\n",
       "      <td>2024-11-19</td>\n",
       "    </tr>\n",
       "    <tr>\n",
       "      <th>3</th>\n",
       "      <td>JUST ESSENTIALS by ASDA Pears (Colour and Vari...</td>\n",
       "      <td>£0.99</td>\n",
       "      <td>(£1.98/kg)</td>\n",
       "      <td>fresh_food</td>\n",
       "      <td>fruits</td>\n",
       "      <td>2024-11-19</td>\n",
       "    </tr>\n",
       "    <tr>\n",
       "      <th>4</th>\n",
       "      <td>JUST ESSENTIALS by ASDA Raspberries</td>\n",
       "      <td>£1.79</td>\n",
       "      <td>(£11.93/kg)</td>\n",
       "      <td>fresh_food</td>\n",
       "      <td>fruits</td>\n",
       "      <td>2024-11-19</td>\n",
       "    </tr>\n",
       "  </tbody>\n",
       "</table>\n",
       "</div>"
      ],
      "text/plain": [
       "                                                Name  Price Price per Unit  \\\n",
       "0                     ASDA Sweet & Plump Raspberries  £2.00    (£13.33/kg)   \n",
       "1           ASDA Sweet & Juicy Rainbow Fruit Platter  £3.50     (£8.33/kg)   \n",
       "2                      ASDA 6 Sweet & Creamy Bananas  £0.94   (15.7p/each)   \n",
       "3  JUST ESSENTIALS by ASDA Pears (Colour and Vari...  £0.99     (£1.98/kg)   \n",
       "4                JUST ESSENTIALS by ASDA Raspberries  £1.79    (£11.93/kg)   \n",
       "\n",
       "     Category Subcategory        Date  \n",
       "0  fresh_food      fruits  2024-11-19  \n",
       "1  fresh_food      fruits  2024-11-19  \n",
       "2  fresh_food      fruits  2024-11-19  \n",
       "3  fresh_food      fruits  2024-11-19  \n",
       "4  fresh_food      fruits  2024-11-19  "
      ]
     },
     "execution_count": 4,
     "metadata": {},
     "output_type": "execute_result"
    }
   ],
   "source": [
    "df.head()"
   ]
  },
  {
   "cell_type": "code",
   "execution_count": 4,
   "metadata": {},
   "outputs": [],
   "source": [
    "# Convert 'Date' column to datetime format (this automatically handles the conversion to day, month, and year)\n",
    "df['Date'] = pd.to_datetime(df['Date'])\n",
    "\n",
    "# Split the 'Date' column into individual components: Year, Month, Day\n",
    "df['Year'] = df['Date'].dt.year\n",
    "df['Month'] = df['Date'].dt.month\n",
    "df['Day'] = df['Date'].dt.day\n",
    "# Drop the original 'Date' column if it's no longer needed\n",
    "df = df.drop(columns=['Date'])"
   ]
  },
  {
   "cell_type": "code",
   "execution_count": 6,
   "metadata": {},
   "outputs": [],
   "source": [
    "# Remove the '£' sign and convert to float\n",
    "df['Price'] = df['Price'].replace('£', '', regex=True).astype(float)"
   ]
  },
  {
   "cell_type": "code",
   "execution_count": 6,
   "metadata": {},
   "outputs": [],
   "source": [
    "def standardize_price_per_unit(price_per_unit):\n",
    "    if isinstance(price_per_unit, str):  # Ensure the value is a string\n",
    "        \n",
    "        # Remove any parentheses around the price value (if present)\n",
    "        price_per_unit = price_per_unit.replace('(', '').replace(')', '')\n",
    "        \n",
    "        # Remove the 'was' keyword and any leading/trailing whitespace or line breaks\n",
    "        price_per_unit = price_per_unit.lower().replace('was', '').strip()\n",
    "\n",
    "        # Split into price and unit if '/' is in the string\n",
    "        if '/' in price_per_unit:\n",
    "            try:\n",
    "                price_value, unit = price_per_unit.split('/')  # Split into price and unit\n",
    "                \n",
    "                # Remove any commas in the price (to handle values like '12,000.00')\n",
    "                price_value = price_value.replace(',', '')  # Remove commas for thousands\n",
    "                \n",
    "                # If the price has a 'p' (e.g., '15.7p'), remove it and convert to pounds (e.g., '15.7p' -> '0.0157')\n",
    "                if 'p' in price_value:\n",
    "                    price_value = float(price_value.replace('p', '').strip()) / 100  # Convert pence to pound\n",
    "                elif '£' in price_value:\n",
    "                    price_value = float(price_value.replace('£', '').strip())  # Convert price to float and remove '£'\n",
    "                \n",
    "                # Unit conversions based on the specific units\n",
    "                if '100g' in unit:  # Convert 100g to kg\n",
    "                    price_value = price_value * 10  # 100g is 0.1kg, so we multiply price by 10\n",
    "                    unit = 'kg'\n",
    "                elif '10g' in unit:\n",
    "                    price_value = price_value * 100  # 10g to kg\n",
    "                    unit = 'kg'\n",
    "                elif 'kg' in unit:  # No conversion needed\n",
    "                    unit = 'kg'\n",
    "                elif '100ml' in unit:  # Convert 100ml to litre\n",
    "                    price_value = price_value * 10  # 100ml is 0.1l, so we multiply price by 10\n",
    "                    unit = 'litre'\n",
    "                elif 'lt' in unit:  # No conversion needed\n",
    "                    unit = 'litre'\n",
    "                elif '75c3' in unit:  # Convert cl to litre (e.g., 75cl to 0.75l)\n",
    "                    price_value = price_value / 10  # 75cl = 0.75l, so divide by 10\n",
    "                    unit = 'litre'\n",
    "                elif 'each' in unit:  # Handle 'each' (e.g., '5.20 each')\n",
    "                    unit = 'each'\n",
    "\n",
    "                # Handle edge case for prices like '12,000.00' (typo, should be '12.00')\n",
    "                if price_value > 1000:\n",
    "                    price_value = price_value / 1000  # Fix the typo, converting to correct value (e.g., 12000 becomes 12.00)\n",
    "\n",
    "                return price_value, unit\n",
    "            except ValueError:\n",
    "                    # Handle splitting errors\n",
    "                    return np.nan, 'other'\n",
    "\n",
    "        else:\n",
    "            return np.nan, np.nan  # Handle rows without valid format\n",
    "    \n",
    "    else:\n",
    "        return np.nan, np.nan  # If the value is not a string, return NaN for both price and unit\n",
    "\n",
    "\n"
   ]
  },
  {
   "cell_type": "code",
   "execution_count": 7,
   "metadata": {},
   "outputs": [
    {
     "name": "stdout",
     "output_type": "stream",
     "text": [
      "Distinct Units: ['kg' 'each' nan 'litre']\n"
     ]
    }
   ],
   "source": [
    "# Apply the function to 'Price per Unit' column\n",
    "df[['Standardised Price per Unit', 'Unit']] = df['Price per Unit'].apply(\n",
    "    lambda x: pd.Series(standardize_price_per_unit(x))\n",
    ")\n",
    "\n",
    "# Verify the distinct units captured\n",
    "print(\"Distinct Units:\", df['Unit'].unique())"
   ]
  },
  {
   "cell_type": "code",
   "execution_count": 8,
   "metadata": {},
   "outputs": [
    {
     "name": "stdout",
     "output_type": "stream",
     "text": [
      "0          kg\n",
      "1          kg\n",
      "2        each\n",
      "3          kg\n",
      "4          kg\n",
      "         ... \n",
      "11622     NaN\n",
      "11623     NaN\n",
      "11624     NaN\n",
      "11625     NaN\n",
      "11626     NaN\n",
      "Name: Unit, Length: 11627, dtype: object\n"
     ]
    }
   ],
   "source": [
    "print(df['Unit'])"
   ]
  },
  {
   "cell_type": "code",
   "execution_count": 20,
   "metadata": {},
   "outputs": [],
   "source": [
    "# Apply the function to the dataframe\n",
    "df[['Standardised price per unit', 'Unit']] = df['Price per Unit'].apply(\n",
    "    lambda x: pd.Series(standardize_price_per_unit(x))\n",
    ")\n",
    "\n",
    "# Filter out invalid unit values (only keep valid units)\n",
    "df = df[df['Unit'].isin(['kg', 'litre', 'each'])]\n"
   ]
  },
  {
   "cell_type": "code",
   "execution_count": 21,
   "metadata": {},
   "outputs": [
    {
     "name": "stdout",
     "output_type": "stream",
     "text": [
      "0\n"
     ]
    }
   ],
   "source": [
    "print(df['Unit'].isna().sum())"
   ]
  },
  {
   "cell_type": "code",
   "execution_count": 35,
   "metadata": {},
   "outputs": [
    {
     "data": {
      "text/html": [
       "<div>\n",
       "<style scoped>\n",
       "    .dataframe tbody tr th:only-of-type {\n",
       "        vertical-align: middle;\n",
       "    }\n",
       "\n",
       "    .dataframe tbody tr th {\n",
       "        vertical-align: top;\n",
       "    }\n",
       "\n",
       "    .dataframe thead th {\n",
       "        text-align: right;\n",
       "    }\n",
       "</style>\n",
       "<table border=\"1\" class=\"dataframe\">\n",
       "  <thead>\n",
       "    <tr style=\"text-align: right;\">\n",
       "      <th></th>\n",
       "      <th>Name</th>\n",
       "      <th>Price</th>\n",
       "      <th>Price per Unit</th>\n",
       "      <th>Category</th>\n",
       "      <th>Subcategory</th>\n",
       "      <th>Date</th>\n",
       "      <th>Standardised price per unit</th>\n",
       "      <th>Unit</th>\n",
       "    </tr>\n",
       "  </thead>\n",
       "  <tbody>\n",
       "  </tbody>\n",
       "</table>\n",
       "</div>"
      ],
      "text/plain": [
       "Empty DataFrame\n",
       "Columns: [Name, Price, Price per Unit, Category, Subcategory, Date, Standardised price per unit, Unit]\n",
       "Index: []"
      ]
     },
     "execution_count": 35,
     "metadata": {},
     "output_type": "execute_result"
    }
   ],
   "source": [
    "df.head()"
   ]
  },
  {
   "cell_type": "code",
   "execution_count": 48,
   "metadata": {},
   "outputs": [
    {
     "name": "stdout",
     "output_type": "stream",
     "text": [
      "                                                Name  Price    Category  \\\n",
      "0                     ASDA Sweet & Plump Raspberries  £2.00  fresh_food   \n",
      "1           ASDA Sweet & Juicy Rainbow Fruit Platter  £3.50  fresh_food   \n",
      "2                      ASDA 6 Sweet & Creamy Bananas  £0.94  fresh_food   \n",
      "3  JUST ESSENTIALS by ASDA Pears (Colour and Vari...  £0.99  fresh_food   \n",
      "4                JUST ESSENTIALS by ASDA Raspberries  £1.79  fresh_food   \n",
      "\n",
      "  Subcategory        Date  Standardised price per unit  Unit_each  Unit_kg  \\\n",
      "0      fruits  2024-11-19                       13.330        0.0      1.0   \n",
      "1      fruits  2024-11-19                        8.330        0.0      1.0   \n",
      "2      fruits  2024-11-19                        0.157        1.0      0.0   \n",
      "3      fruits  2024-11-19                        1.980        0.0      1.0   \n",
      "4      fruits  2024-11-19                       11.930        0.0      1.0   \n",
      "\n",
      "   Unit_litre  \n",
      "0         0.0  \n",
      "1         0.0  \n",
      "2         0.0  \n",
      "3         0.0  \n",
      "4         0.0  \n"
     ]
    },
    {
     "name": "stderr",
     "output_type": "stream",
     "text": [
      "c:\\ProgramData\\anaconda3\\Lib\\site-packages\\sklearn\\preprocessing\\_encoders.py:868: FutureWarning: `sparse` was renamed to `sparse_output` in version 1.2 and will be removed in 1.4. `sparse_output` is ignored unless you leave `sparse` to its default value.\n",
      "  warnings.warn(\n"
     ]
    }
   ],
   "source": [
    "# Apply the function to the dataframe\n",
    "df[['Standardised price per unit', 'Unit']] = df['Price per Unit'].apply(\n",
    "    lambda x: pd.Series(standardize_price_per_unit(x))\n",
    ")\n",
    "\n",
    "# Filter out invalid unit values (only keep valid units)\n",
    "df = df[df['Unit'].isin(['kg', 'litre', 'each'])]\n",
    "\n",
    "# One-hot encode the 'Unit' column\n",
    "encoder = OneHotEncoder(sparse=False, handle_unknown='ignore')  # Avoid errors for unknown units\n",
    "unit_encoded = encoder.fit_transform(df[['Unit']])\n",
    "\n",
    "# Create new columns based on one-hot encoding\n",
    "unit_columns = encoder.get_feature_names_out(['Unit'])\n",
    "df[unit_columns] = unit_encoded\n",
    "\n",
    "# Drop the original 'Unit' and 'Price per Unit' columns\n",
    "df.drop(columns=['Unit', 'Price per Unit'], inplace=True)\n",
    "\n",
    "# Display the cleaned dataframe\n",
    "print(df.head())\n"
   ]
  }
 ],
 "metadata": {
  "kernelspec": {
   "display_name": "base",
   "language": "python",
   "name": "python3"
  },
  "language_info": {
   "codemirror_mode": {
    "name": "ipython",
    "version": 3
   },
   "file_extension": ".py",
   "mimetype": "text/x-python",
   "name": "python",
   "nbconvert_exporter": "python",
   "pygments_lexer": "ipython3",
   "version": "3.11.7"
  }
 },
 "nbformat": 4,
 "nbformat_minor": 2
}
