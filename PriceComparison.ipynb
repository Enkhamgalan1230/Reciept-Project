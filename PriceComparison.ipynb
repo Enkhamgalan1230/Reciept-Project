{
 "cells": [
  {
   "cell_type": "code",
   "execution_count": 1,
   "metadata": {},
   "outputs": [],
   "source": [
    "import pandas as pd\n",
    "import numpy as np"
   ]
  },
  {
   "cell_type": "code",
   "execution_count": 3,
   "metadata": {},
   "outputs": [],
   "source": [
    "aldi = pd.read_csv(\"Test datasets\\Aldi_Clean_2025-02-04.csv\")\n",
    "asda = pd.read_csv(\"Test datasets\\Asda_Clean_2025-02-04.csv\")\n",
    "sains = pd.read_csv(\"Test datasets\\Sainsburys_Clean_2025-02-04.csv\")\n",
    "tesco = pd.read_csv(\"Test datasets\\Tesco_Clean_2025-02-04.csv\")\n",
    "waitrose = pd.read_csv(\"Test datasets\\Waitrose_Clean_2025-02-04.csv\")\n"
   ]
  },
  {
   "cell_type": "code",
   "execution_count": 4,
   "metadata": {},
   "outputs": [
    {
     "data": {
      "text/html": [
       "<div>\n",
       "<style scoped>\n",
       "    .dataframe tbody tr th:only-of-type {\n",
       "        vertical-align: middle;\n",
       "    }\n",
       "\n",
       "    .dataframe tbody tr th {\n",
       "        vertical-align: top;\n",
       "    }\n",
       "\n",
       "    .dataframe thead th {\n",
       "        text-align: right;\n",
       "    }\n",
       "</style>\n",
       "<table border=\"1\" class=\"dataframe\">\n",
       "  <thead>\n",
       "    <tr style=\"text-align: right;\">\n",
       "      <th></th>\n",
       "      <th>Name</th>\n",
       "      <th>Price</th>\n",
       "      <th>Category</th>\n",
       "      <th>Subcategory</th>\n",
       "      <th>Year</th>\n",
       "      <th>Month</th>\n",
       "      <th>Day</th>\n",
       "      <th>Standardised Price per Unit</th>\n",
       "      <th>Unit_each</th>\n",
       "      <th>Unit_kg</th>\n",
       "      <th>Unit_litre</th>\n",
       "    </tr>\n",
       "  </thead>\n",
       "  <tbody>\n",
       "    <tr>\n",
       "      <th>0</th>\n",
       "      <td>Everyday Essentials Strawberries 227g</td>\n",
       "      <td>1.79</td>\n",
       "      <td>fresh_food</td>\n",
       "      <td>fruits</td>\n",
       "      <td>2025</td>\n",
       "      <td>2</td>\n",
       "      <td>4</td>\n",
       "      <td>7.89</td>\n",
       "      <td>0.0</td>\n",
       "      <td>1.0</td>\n",
       "      <td>0.0</td>\n",
       "    </tr>\n",
       "    <tr>\n",
       "      <th>1</th>\n",
       "      <td>Nature's Pick Bananas 5 Pack</td>\n",
       "      <td>0.78</td>\n",
       "      <td>fresh_food</td>\n",
       "      <td>fruits</td>\n",
       "      <td>2025</td>\n",
       "      <td>2</td>\n",
       "      <td>4</td>\n",
       "      <td>0.16</td>\n",
       "      <td>1.0</td>\n",
       "      <td>0.0</td>\n",
       "      <td>0.0</td>\n",
       "    </tr>\n",
       "    <tr>\n",
       "      <th>2</th>\n",
       "      <td>Nature's Pick Strawberries 400g</td>\n",
       "      <td>3.19</td>\n",
       "      <td>fresh_food</td>\n",
       "      <td>fruits</td>\n",
       "      <td>2025</td>\n",
       "      <td>2</td>\n",
       "      <td>4</td>\n",
       "      <td>7.98</td>\n",
       "      <td>0.0</td>\n",
       "      <td>1.0</td>\n",
       "      <td>0.0</td>\n",
       "    </tr>\n",
       "    <tr>\n",
       "      <th>3</th>\n",
       "      <td>Specially Selected Easy Peelers 600g</td>\n",
       "      <td>1.19</td>\n",
       "      <td>fresh_food</td>\n",
       "      <td>fruits</td>\n",
       "      <td>2025</td>\n",
       "      <td>2</td>\n",
       "      <td>4</td>\n",
       "      <td>1.98</td>\n",
       "      <td>0.0</td>\n",
       "      <td>1.0</td>\n",
       "      <td>0.0</td>\n",
       "    </tr>\n",
       "    <tr>\n",
       "      <th>4</th>\n",
       "      <td>Nature's Pick Loose Bananas Each</td>\n",
       "      <td>0.16</td>\n",
       "      <td>fresh_food</td>\n",
       "      <td>fruits</td>\n",
       "      <td>2025</td>\n",
       "      <td>2</td>\n",
       "      <td>4</td>\n",
       "      <td>0.16</td>\n",
       "      <td>1.0</td>\n",
       "      <td>0.0</td>\n",
       "      <td>0.0</td>\n",
       "    </tr>\n",
       "  </tbody>\n",
       "</table>\n",
       "</div>"
      ],
      "text/plain": [
       "                                    Name  Price    Category Subcategory  Year  \\\n",
       "0  Everyday Essentials Strawberries 227g   1.79  fresh_food      fruits  2025   \n",
       "1           Nature's Pick Bananas 5 Pack   0.78  fresh_food      fruits  2025   \n",
       "2        Nature's Pick Strawberries 400g   3.19  fresh_food      fruits  2025   \n",
       "3   Specially Selected Easy Peelers 600g   1.19  fresh_food      fruits  2025   \n",
       "4       Nature's Pick Loose Bananas Each   0.16  fresh_food      fruits  2025   \n",
       "\n",
       "   Month  Day  Standardised Price per Unit  Unit_each  Unit_kg  Unit_litre  \n",
       "0      2    4                         7.89        0.0      1.0         0.0  \n",
       "1      2    4                         0.16        1.0      0.0         0.0  \n",
       "2      2    4                         7.98        0.0      1.0         0.0  \n",
       "3      2    4                         1.98        0.0      1.0         0.0  \n",
       "4      2    4                         0.16        1.0      0.0         0.0  "
      ]
     },
     "execution_count": 4,
     "metadata": {},
     "output_type": "execute_result"
    }
   ],
   "source": [
    "aldi.head()"
   ]
  },
  {
   "cell_type": "code",
   "execution_count": 20,
   "metadata": {},
   "outputs": [
    {
     "name": "stderr",
     "output_type": "stream",
     "text": [
      "[nltk_data] Downloading package punkt to\n",
      "[nltk_data]     C:\\Users\\Entwan\\AppData\\Roaming\\nltk_data...\n",
      "[nltk_data]   Package punkt is already up-to-date!\n",
      "[nltk_data] Downloading package stopwords to\n",
      "[nltk_data]     C:\\Users\\Entwan\\AppData\\Roaming\\nltk_data...\n",
      "[nltk_data]   Package stopwords is already up-to-date!\n",
      "[nltk_data] Downloading package wordnet to\n",
      "[nltk_data]     C:\\Users\\Entwan\\AppData\\Roaming\\nltk_data...\n",
      "[nltk_data]   Package wordnet is already up-to-date!\n"
     ]
    },
    {
     "data": {
      "text/plain": [
       "True"
      ]
     },
     "execution_count": 20,
     "metadata": {},
     "output_type": "execute_result"
    }
   ],
   "source": [
    "import nltk\n",
    "from nltk.corpus import stopwords, wordnet as wn\n",
    "from nltk.tokenize import word_tokenize\n",
    "\n",
    "# Download required NLTK resources\n",
    "nltk.download('punkt')\n",
    "nltk.download('stopwords')\n",
    "nltk.download('wordnet')"
   ]
  },
  {
   "cell_type": "code",
   "execution_count": 40,
   "metadata": {},
   "outputs": [],
   "source": [
    "stop_words = set(stopwords.words('english'))\n",
    "import re"
   ]
  },
  {
   "cell_type": "code",
   "execution_count": 22,
   "metadata": {},
   "outputs": [],
   "source": [
    "# Function to check if a word is a food item using WordNet\n",
    "def if_food(word):\n",
    "    syns = wn.synsets(str(word), pos=wn.NOUN)\n",
    "    for syn in syns:\n",
    "        if 'food' in syn.lexname():\n",
    "            return word  # Return the detected food word\n",
    "    return None"
   ]
  },
  {
   "cell_type": "code",
   "execution_count": 42,
   "metadata": {},
   "outputs": [],
   "source": [
    "# Function to process product names and detect food words\n",
    "def detect_food(product_name):\n",
    "    if not isinstance(product_name, str):  # Handle missing values\n",
    "        return None\n",
    "\n",
    "   # Replace unwanted characters with spaces\n",
    "    clean_text = re.sub(r\"[-_=,'()/@!]\", \" \", product_name)\n",
    "\n",
    "    # Tokenize the cleaned text\n",
    "    tokens = word_tokenize(clean_text.lower())\n",
    "\n",
    "    # Remove stopwords\n",
    "    filtered_tokens = [word for word in tokens if word.isalpha() and word not in stop_words]\n",
    "\n",
    "    # Check each word using if_food function\n",
    "    for word in filtered_tokens:\n",
    "        detected_food = if_food(word)\n",
    "        if detected_food:\n",
    "            return detected_food  # Return the first detected food-related word\n",
    "\n",
    "    return None\n"
   ]
  },
  {
   "cell_type": "code",
   "execution_count": 44,
   "metadata": {},
   "outputs": [
    {
     "name": "stdout",
     "output_type": "stream",
     "text": [
      "Product: Everyday Essentials Strawberries 227g -> Detected Food: strawberries\n",
      "Product: Tesco Chicken Breast Fillets 1kg -> Detected Food: chicken\n",
      "Product: Oreo Chocolate Cookies 150g -> Detected Food: oreo\n",
      "Product: Coca-Cola Original Taste 1L -> Detected Food: cola\n",
      "Product: Fresh Wholemeal Bread Loaf -> Detected Food: bread\n",
      "Product:  -> Detected Food: None\n"
     ]
    }
   ],
   "source": [
    "# Example usage\n",
    "product_names = [\n",
    "    \"Everyday Essentials Strawberries 227g\",\n",
    "    \"Tesco Chicken Breast Fillets 1kg\",\n",
    "    \"Oreo Chocolate Cookies 150g\",\n",
    "    \"Coca-Cola Original Taste 1L\",\n",
    "    \"Fresh Wholemeal Bread Loaf\",\n",
    "    \"\"\n",
    "]\n",
    "\n",
    "# Apply function to product names\n",
    "for name in product_names:\n",
    "    print(f\"Product: {name} -> Detected Food: {detect_food(name)}\")"
   ]
  }
 ],
 "metadata": {
  "kernelspec": {
   "display_name": "base",
   "language": "python",
   "name": "python3"
  },
  "language_info": {
   "codemirror_mode": {
    "name": "ipython",
    "version": 3
   },
   "file_extension": ".py",
   "mimetype": "text/x-python",
   "name": "python",
   "nbconvert_exporter": "python",
   "pygments_lexer": "ipython3",
   "version": "3.11.7"
  }
 },
 "nbformat": 4,
 "nbformat_minor": 2
}
