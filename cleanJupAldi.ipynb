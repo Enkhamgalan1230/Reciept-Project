{
 "cells": [
  {
   "cell_type": "code",
   "execution_count": 41,
   "metadata": {},
   "outputs": [],
   "source": [
    "import pandas as pd\n",
    "import re\n",
    "import numpy as np\n"
   ]
  },
  {
   "cell_type": "code",
   "execution_count": 52,
   "metadata": {},
   "outputs": [],
   "source": [
    "df = pd.read_csv(\"Aldi.csv\")"
   ]
  },
  {
   "cell_type": "code",
   "execution_count": 48,
   "metadata": {},
   "outputs": [
    {
     "data": {
      "text/html": [
       "<div>\n",
       "<style scoped>\n",
       "    .dataframe tbody tr th:only-of-type {\n",
       "        vertical-align: middle;\n",
       "    }\n",
       "\n",
       "    .dataframe tbody tr th {\n",
       "        vertical-align: top;\n",
       "    }\n",
       "\n",
       "    .dataframe thead th {\n",
       "        text-align: right;\n",
       "    }\n",
       "</style>\n",
       "<table border=\"1\" class=\"dataframe\">\n",
       "  <thead>\n",
       "    <tr style=\"text-align: right;\">\n",
       "      <th></th>\n",
       "      <th>Name</th>\n",
       "      <th>Price</th>\n",
       "      <th>Price per Unit</th>\n",
       "      <th>Category</th>\n",
       "      <th>Subcategory</th>\n",
       "      <th>Date</th>\n",
       "    </tr>\n",
       "  </thead>\n",
       "  <tbody>\n",
       "    <tr>\n",
       "      <th>0</th>\n",
       "      <td>Everyday Essentials Strawberries 227g</td>\n",
       "      <td>£1.69</td>\n",
       "      <td>£7.45 per kg</td>\n",
       "      <td>fresh_food</td>\n",
       "      <td>fruits</td>\n",
       "      <td>2024-11-19</td>\n",
       "    </tr>\n",
       "    <tr>\n",
       "      <th>1</th>\n",
       "      <td>Nature's Pick Bananas 5 Pack</td>\n",
       "      <td>£0.78</td>\n",
       "      <td>£0.16 each</td>\n",
       "      <td>fresh_food</td>\n",
       "      <td>fruits</td>\n",
       "      <td>2024-11-19</td>\n",
       "    </tr>\n",
       "    <tr>\n",
       "      <th>2</th>\n",
       "      <td>Specially Selected Easy Peelers 600g</td>\n",
       "      <td>£1.69</td>\n",
       "      <td>£2.82 per kg</td>\n",
       "      <td>fresh_food</td>\n",
       "      <td>fruits</td>\n",
       "      <td>2024-11-19</td>\n",
       "    </tr>\n",
       "    <tr>\n",
       "      <th>3</th>\n",
       "      <td>The Foodie Market Raspberry Dinos 20g</td>\n",
       "      <td>£0.33</td>\n",
       "      <td>£1.65 per 100g</td>\n",
       "      <td>fresh_food</td>\n",
       "      <td>fruits</td>\n",
       "      <td>2024-11-19</td>\n",
       "    </tr>\n",
       "    <tr>\n",
       "      <th>4</th>\n",
       "      <td>The Foodie Market Strawberry Dinos 20g</td>\n",
       "      <td>£0.33</td>\n",
       "      <td>£1.65 per 100g</td>\n",
       "      <td>fresh_food</td>\n",
       "      <td>fruits</td>\n",
       "      <td>2024-11-19</td>\n",
       "    </tr>\n",
       "  </tbody>\n",
       "</table>\n",
       "</div>"
      ],
      "text/plain": [
       "                                     Name  Price  Price per Unit    Category  \\\n",
       "0   Everyday Essentials Strawberries 227g  £1.69    £7.45 per kg  fresh_food   \n",
       "1            Nature's Pick Bananas 5 Pack  £0.78      £0.16 each  fresh_food   \n",
       "2    Specially Selected Easy Peelers 600g  £1.69    £2.82 per kg  fresh_food   \n",
       "3   The Foodie Market Raspberry Dinos 20g  £0.33  £1.65 per 100g  fresh_food   \n",
       "4  The Foodie Market Strawberry Dinos 20g  £0.33  £1.65 per 100g  fresh_food   \n",
       "\n",
       "  Subcategory        Date  \n",
       "0      fruits  2024-11-19  \n",
       "1      fruits  2024-11-19  \n",
       "2      fruits  2024-11-19  \n",
       "3      fruits  2024-11-19  \n",
       "4      fruits  2024-11-19  "
      ]
     },
     "execution_count": 48,
     "metadata": {},
     "output_type": "execute_result"
    }
   ],
   "source": [
    "df.head()"
   ]
  },
  {
   "cell_type": "code",
   "execution_count": 26,
   "metadata": {},
   "outputs": [
    {
     "data": {
      "text/html": [
       "<div>\n",
       "<style scoped>\n",
       "    .dataframe tbody tr th:only-of-type {\n",
       "        vertical-align: middle;\n",
       "    }\n",
       "\n",
       "    .dataframe tbody tr th {\n",
       "        vertical-align: top;\n",
       "    }\n",
       "\n",
       "    .dataframe thead th {\n",
       "        text-align: right;\n",
       "    }\n",
       "</style>\n",
       "<table border=\"1\" class=\"dataframe\">\n",
       "  <thead>\n",
       "    <tr style=\"text-align: right;\">\n",
       "      <th></th>\n",
       "      <th>Name</th>\n",
       "      <th>Price</th>\n",
       "      <th>Price per Unit</th>\n",
       "      <th>Category</th>\n",
       "      <th>Subcategory</th>\n",
       "      <th>Date</th>\n",
       "    </tr>\n",
       "  </thead>\n",
       "  <tbody>\n",
       "  </tbody>\n",
       "</table>\n",
       "</div>"
      ],
      "text/plain": [
       "Empty DataFrame\n",
       "Columns: [Name, Price, Price per Unit, Category, Subcategory, Date]\n",
       "Index: []"
      ]
     },
     "execution_count": 26,
     "metadata": {},
     "output_type": "execute_result"
    }
   ],
   "source": [
    "p = df[df[\"Price\"].str.contains('p', na=False)]\n",
    "p"
   ]
  },
  {
   "cell_type": "code",
   "execution_count": 27,
   "metadata": {},
   "outputs": [],
   "source": [
    "# Convert 'Date' column to datetime format (this automatically handles the conversion to day, month, and year)\n",
    "df['Date'] = pd.to_datetime(df['Date'])\n",
    "\n",
    "# Split the 'Date' column into individual components: Year, Month, Day\n",
    "df['Year'] = df['Date'].dt.year\n",
    "df['Month'] = df['Date'].dt.month\n",
    "df['Day'] = df['Date'].dt.day\n",
    "# Drop the original 'Date' column if it's no longer needed\n",
    "df = df.drop(columns=['Date'])"
   ]
  },
  {
   "cell_type": "code",
   "execution_count": 29,
   "metadata": {},
   "outputs": [],
   "source": [
    "# Remove the '£' sign and convert to float\n",
    "df['Price'] = df['Price'].replace('£', '', regex=True).astype(float)"
   ]
  },
  {
   "cell_type": "code",
   "execution_count": null,
   "metadata": {},
   "outputs": [],
   "source": []
  },
  {
   "cell_type": "code",
   "execution_count": 53,
   "metadata": {},
   "outputs": [
    {
     "name": "stdout",
     "output_type": "stream",
     "text": [
      "                                       Name  Price    Category Subcategory  \\\n",
      "0     Everyday Essentials Strawberries 227g  £1.69  fresh_food      fruits   \n",
      "2      Specially Selected Easy Peelers 600g  £1.69  fresh_food      fruits   \n",
      "3     The Foodie Market Raspberry Dinos 20g  £0.33  fresh_food      fruits   \n",
      "4    The Foodie Market Strawberry Dinos 20g  £0.33  fresh_food      fruits   \n",
      "5  The Foodie Market Strawberry Dinos 5x20g  £1.69  fresh_food      fruits   \n",
      "\n",
      "         Date  Standardised price per unit  Unit_litre  \n",
      "0  2024-11-19                         7.45         0.0  \n",
      "2  2024-11-19                         2.82         0.0  \n",
      "3  2024-11-19                        16.50         0.0  \n",
      "4  2024-11-19                        16.50         0.0  \n",
      "5  2024-11-19                        16.90         0.0  \n"
     ]
    },
    {
     "name": "stderr",
     "output_type": "stream",
     "text": [
      "c:\\ProgramData\\anaconda3\\Lib\\site-packages\\sklearn\\preprocessing\\_encoders.py:868: FutureWarning: `sparse` was renamed to `sparse_output` in version 1.2 and will be removed in 1.4. `sparse_output` is ignored unless you leave `sparse` to its default value.\n",
      "  warnings.warn(\n"
     ]
    }
   ],
   "source": [
    "import pandas as pd\n",
    "import numpy as np\n",
    "from sklearn.preprocessing import OneHotEncoder\n",
    "\n",
    "def standardize_price_per_unit(price_per_unit):\n",
    "    if isinstance(price_per_unit, str):  # Ensure the value is a string\n",
    "        \n",
    "        # Split into price and unit if 'per' is in the string\n",
    "        if 'per' in price_per_unit:\n",
    "            price_value, unit = price_per_unit.split(' per ')  # Split into price and unit\n",
    "            \n",
    "            # Check if the price has a 'p' and remove it (e.g., '0.70p' becomes '£0.70')\n",
    "            if 'p' in price_value:\n",
    "                # If there's no decimal point, we assume it's in whole pence (e.g., '70p' -> '0.70')\n",
    "                if '.' not in price_value:\n",
    "                    price_value = f\"£{float(price_value.replace('p', '').strip()) / 100:.2f}\"\n",
    "                else:\n",
    "                    price_value = price_value.replace('p', '£')  # Replace 'p' with '£'\n",
    "            \n",
    "            price_value = float(price_value.replace('£', '').strip())  # Convert price to float and remove '£'\n",
    "            \n",
    "            # Unit conversions based on the specific units\n",
    "            if '100g' in unit:  # Convert 100g to kg\n",
    "                price_value = price_value * 10  # 100g is 0.1kg, so we multiply price by 10\n",
    "                unit = 'kg'\n",
    "            elif 'kg' in unit:  # No conversion needed\n",
    "                unit = 'kg'\n",
    "            elif '100ml' in unit:  # Convert 100ml to litre\n",
    "                price_value = price_value * 10  # 100ml is 0.1l, so we multiply price by 10\n",
    "                unit = 'litre'\n",
    "            elif 'litre' in unit:  # No conversion needed\n",
    "                unit = 'litre'\n",
    "            elif 'cl' in unit:  # Convert cl to litre (e.g., 75cl to 0.75l)\n",
    "                price_value = price_value / 10  # 75cl = 0.75l, so divide by 10\n",
    "                unit = 'litre'\n",
    "            elif 'each' in unit:  # Handle 'each' (e.g., '5.20 each')\n",
    "                unit = 'each'\n",
    "\n",
    "            return price_value, unit\n",
    "\n",
    "        else:\n",
    "            return np.nan, np.nan  # Handle rows without valid format\n",
    "    else:\n",
    "        return np.nan, np.nan  # If the value is not a string, return NaN for both price and unit\n",
    "\n",
    "# Apply the function to the dataframe\n",
    "df[['Standardised price per unit', 'Unit']] = df['Price per Unit'].apply(\n",
    "    lambda x: pd.Series(standardize_price_per_unit(x))\n",
    ")\n",
    "\n",
    "# Filter out invalid unit values (only keep valid units)\n",
    "df = df[df['Unit'].isin(['kg', 'litre', 'each'])]\n",
    "\n",
    "# One-hot encode the 'Unit' column\n",
    "encoder = OneHotEncoder(sparse=False, drop='if_binary')  # Drop 'unit_nan' column if it exists\n",
    "unit_encoded = encoder.fit_transform(df[['Unit']])\n",
    "\n",
    "# Create new columns based on one-hot encoding\n",
    "unit_columns = encoder.get_feature_names_out(['Unit'])\n",
    "df[unit_columns] = unit_encoded\n",
    "\n",
    "# Drop the original 'Unit' and 'Price per Unit' columns\n",
    "df.drop(columns=['Unit', 'Price per Unit'], inplace=True)\n",
    "\n",
    "# Display the cleaned dataframe\n",
    "print(df.head())\n"
   ]
  }
 ],
 "metadata": {
  "kernelspec": {
   "display_name": "base",
   "language": "python",
   "name": "python3"
  },
  "language_info": {
   "codemirror_mode": {
    "name": "ipython",
    "version": 3
   },
   "file_extension": ".py",
   "mimetype": "text/x-python",
   "name": "python",
   "nbconvert_exporter": "python",
   "pygments_lexer": "ipython3",
   "version": "3.11.7"
  }
 },
 "nbformat": 4,
 "nbformat_minor": 2
}
